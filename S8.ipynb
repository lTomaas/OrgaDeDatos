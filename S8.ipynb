{
 "cells": [
  {
   "cell_type": "code",
   "execution_count": 1,
   "id": "faab8732",
   "metadata": {},
   "outputs": [],
   "source": [
    "import findspark\n",
    "findspark.init()\n",
    "from pyspark import SparkContext\n",
    "from pyspark.sql import *\n",
    "from pyspark import SparkConf\n",
    "import pyspark as ps\n",
    "import pandas as pd"
   ]
  },
  {
   "cell_type": "code",
   "execution_count": 2,
   "id": "c5154a98",
   "metadata": {},
   "outputs": [],
   "source": [
    "conf = (SparkConf()\n",
    "            .setAppName(\"TestRdd\") \\\n",
    "            .set('spark.driver.cores', '1') \\\n",
    "            .set('spark.executor.cores', '3') \\\n",
    "            .set('spark.driver.memory', '4G') \\\n",
    "            .set('spark.executor.memory', '16G'))\\\n",
    "            .set(\"spark.network.timeout\", \"15000s\")\n",
    "sc = SparkContext('local[4]', conf = conf)\n",
    "sqlContext = SQLContext(sc)"
   ]
  },
  {
   "cell_type": "code",
   "execution_count": 3,
   "id": "e19beeaf",
   "metadata": {},
   "outputs": [],
   "source": [
    "data_negocios = sqlContext.read.csv('C:/Users/tomas/OneDrive/Escritorio/ORGA DE DATOS/business.csv', sep=',', multiLine=True,header=True, inferSchema=True)\n",
    "data_reviews =  sqlContext.read.parquet('C:/Users/tomas/OneDrive/Escritorio/ORGA DE DATOS/review.parquet')"
   ]
  },
  {
   "cell_type": "code",
   "execution_count": 4,
   "id": "05ef7b98",
   "metadata": {},
   "outputs": [],
   "source": [
    "negocios = data_negocios.rdd\n",
    "reviews = data_reviews.rdd"
   ]
  },
  {
   "cell_type": "code",
   "execution_count": 5,
   "id": "dd9e411c",
   "metadata": {},
   "outputs": [],
   "source": [
    "negocios_california = negocios.filter(lambda x: x.state == \"CA\").map(lambda x: (x.business_id,x.state))\n",
    "#Obtengo los negocios del estado de california\n",
    "#Mapeo (negocio_id,estado)"
   ]
  },
  {
   "cell_type": "code",
   "execution_count": 12,
   "id": "6b18db11",
   "metadata": {},
   "outputs": [],
   "source": [
    "reviews_dict = reviews.map(lambda x: (x.business_id,x.user_id))\n",
    "#Mapeo (negocio_id,usuario_id)"
   ]
  },
  {
   "cell_type": "code",
   "execution_count": 13,
   "id": "545945f3",
   "metadata": {},
   "outputs": [],
   "source": [
    "review_negocios = negocios_california.join(reviews_dict)"
   ]
  },
  {
   "cell_type": "code",
   "execution_count": 18,
   "id": "84239afb",
   "metadata": {},
   "outputs": [],
   "source": [
    "usuario = review_negocios.map(lambda x: (x[1][1],1))\\\n",
    "                         .reduceByKey(lambda x,y: x + y)\\\n",
    "                         .reduce(lambda x,y: x if x[1] > y[1] else y)"
   ]
  },
  {
   "cell_type": "code",
   "execution_count": 16,
   "id": "c580be73",
   "metadata": {},
   "outputs": [],
   "source": [
    "data_usuarios =  sqlContext.read.csv('C:/Users/tomas/OneDrive/Escritorio/ORGA DE DATOS/user.csv', sep=',', multiLine=True,header=True, inferSchema=True)"
   ]
  },
  {
   "cell_type": "code",
   "execution_count": 22,
   "id": "42946860",
   "metadata": {},
   "outputs": [],
   "source": [
    "usuarios = data_usuarios.rdd\n",
    "nombre = usuarios.filter(lambda x: x.user_id == usuario[0]).map(lambda x: x.name).first()"
   ]
  },
  {
   "cell_type": "code",
   "execution_count": 25,
   "id": "970574f3",
   "metadata": {},
   "outputs": [
    {
     "name": "stdout",
     "output_type": "stream",
     "text": [
      "El usuario que hizo mas reviews en California es Eric con 447 reviews\n"
     ]
    }
   ],
   "source": [
    "print(\"El usuario que hizo mas reviews en California es\", nombre, \"con\",usuario[1],\"reviews\")"
   ]
  },
  {
   "cell_type": "code",
   "execution_count": null,
   "id": "d306ab2d",
   "metadata": {},
   "outputs": [],
   "source": []
  }
 ],
 "metadata": {
  "kernelspec": {
   "display_name": "Python 3 (ipykernel)",
   "language": "python",
   "name": "python3"
  },
  "language_info": {
   "codemirror_mode": {
    "name": "ipython",
    "version": 3
   },
   "file_extension": ".py",
   "mimetype": "text/x-python",
   "name": "python",
   "nbconvert_exporter": "python",
   "pygments_lexer": "ipython3",
   "version": "3.7.9"
  }
 },
 "nbformat": 4,
 "nbformat_minor": 5
}

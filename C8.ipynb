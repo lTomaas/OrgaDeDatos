{
 "cells": [
  {
   "cell_type": "code",
   "execution_count": 1,
   "id": "7a018b52",
   "metadata": {},
   "outputs": [],
   "source": [
    "import pandas as pd\n",
    "usuarios = pd.read_csv('C:/Users/tomas/OneDrive/Escritorio/ORGA DE DATOS/user.csv', usecols = [\"user_id\",\"review_count\",\"fans\"])\n",
    "reviews = pd.read_csv('C:/Users/tomas/OneDrive/Escritorio/ORGA DE DATOS/review.csv', usecols = [\"review_id\",\"text\",\"user_id\"])"
   ]
  },
  {
   "cell_type": "code",
   "execution_count": 2,
   "id": "58e2f559",
   "metadata": {},
   "outputs": [],
   "source": [
    "merge = pd.merge(usuarios,reviews, on = \"user_id\")\n",
    "merge = merge[merge.review_count > 200]"
   ]
  },
  {
   "cell_type": "code",
   "execution_count": 3,
   "id": "fdac10f0",
   "metadata": {},
   "outputs": [],
   "source": [
    "group = merge.groupby([\"user_id\",\"fans\"])[[\"text\"]].agg(list)"
   ]
  },
  {
   "cell_type": "code",
   "execution_count": 4,
   "id": "0dd310de",
   "metadata": {},
   "outputs": [],
   "source": [
    "nuevo_df = pd.DataFrame(group)\n",
    "nuevo_df = nuevo_df.reset_index()"
   ]
  },
  {
   "cell_type": "code",
   "execution_count": 5,
   "id": "f54bdea4",
   "metadata": {},
   "outputs": [],
   "source": [
    "textos = []\n",
    "for texts in nuevo_df.text:\n",
    "    texto_concat = \"\"\n",
    "    for text in texts:\n",
    "        texto_concat = texto_concat + text\n",
    "    textos.append(texto_concat)"
   ]
  },
  {
   "cell_type": "code",
   "execution_count": 6,
   "id": "cdc1074d",
   "metadata": {},
   "outputs": [],
   "source": [
    "nuevo_df[\"textos_concatenados\"] = textos"
   ]
  },
  {
   "cell_type": "code",
   "execution_count": 7,
   "id": "21768fcf",
   "metadata": {},
   "outputs": [],
   "source": [
    "import zstandard\n",
    "import gzip\n",
    "\n",
    "def compress_size(bytefile):\n",
    "    return len(gzip.compress((bytefile.encode()),compresslevel = 1))\n",
    "\n",
    "\n",
    "def ncd(st1,st2):\n",
    "    len1 = compress_size(st1)\n",
    "    len2 = compress_size(st2)\n",
    "    concat_len =  compress_size(st1+st2)\n",
    "    return (concat_len - min(len1,len2))/max(len1,len2)"
   ]
  },
  {
   "cell_type": "code",
   "execution_count": 8,
   "id": "1a42e7fc",
   "metadata": {},
   "outputs": [],
   "source": [
    "nuevo_df[\"compresion\"] = nuevo_df.textos_concatenados.apply(lambda x: compress_size(x))\n",
    "nuevo_df[\"tamaño_real\"] = nuevo_df.textos_concatenados.apply(lambda x: len(x))"
   ]
  },
  {
   "cell_type": "code",
   "execution_count": 9,
   "id": "c11aa77b",
   "metadata": {},
   "outputs": [],
   "source": [
    "nuevo_df[\"compresion_ratio\"] = nuevo_df[\"tamaño_real\"]/nuevo_df[\"compresion\"]"
   ]
  },
  {
   "cell_type": "code",
   "execution_count": 11,
   "id": "4f3fe040",
   "metadata": {},
   "outputs": [],
   "source": [
    "correlacion = nuevo_df[[\"compresion_ratio\",\"fans\"]]"
   ]
  },
  {
   "cell_type": "code",
   "execution_count": 12,
   "id": "4388a2a8",
   "metadata": {},
   "outputs": [
    {
     "data": {
      "text/html": [
       "<div>\n",
       "<style scoped>\n",
       "    .dataframe tbody tr th:only-of-type {\n",
       "        vertical-align: middle;\n",
       "    }\n",
       "\n",
       "    .dataframe tbody tr th {\n",
       "        vertical-align: top;\n",
       "    }\n",
       "\n",
       "    .dataframe thead th {\n",
       "        text-align: right;\n",
       "    }\n",
       "</style>\n",
       "<table border=\"1\" class=\"dataframe\">\n",
       "  <thead>\n",
       "    <tr style=\"text-align: right;\">\n",
       "      <th></th>\n",
       "      <th>compresion_ratio</th>\n",
       "      <th>fans</th>\n",
       "    </tr>\n",
       "  </thead>\n",
       "  <tbody>\n",
       "    <tr>\n",
       "      <th>compresion_ratio</th>\n",
       "      <td>1.000000</td>\n",
       "      <td>-0.171608</td>\n",
       "    </tr>\n",
       "    <tr>\n",
       "      <th>fans</th>\n",
       "      <td>-0.171608</td>\n",
       "      <td>1.000000</td>\n",
       "    </tr>\n",
       "  </tbody>\n",
       "</table>\n",
       "</div>"
      ],
      "text/plain": [
       "                  compresion_ratio      fans\n",
       "compresion_ratio          1.000000 -0.171608\n",
       "fans                     -0.171608  1.000000"
      ]
     },
     "execution_count": 12,
     "metadata": {},
     "output_type": "execute_result"
    }
   ],
   "source": [
    "correlacion.corr()"
   ]
  }
 ],
 "metadata": {
  "kernelspec": {
   "display_name": "Python 3 (ipykernel)",
   "language": "python",
   "name": "python3"
  },
  "language_info": {
   "codemirror_mode": {
    "name": "ipython",
    "version": 3
   },
   "file_extension": ".py",
   "mimetype": "text/x-python",
   "name": "python",
   "nbconvert_exporter": "python",
   "pygments_lexer": "ipython3",
   "version": "3.7.9"
  }
 },
 "nbformat": 4,
 "nbformat_minor": 5
}

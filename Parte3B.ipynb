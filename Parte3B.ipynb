{
 "cells": [
  {
   "cell_type": "code",
   "execution_count": 1,
   "id": "2ab42a00",
   "metadata": {},
   "outputs": [],
   "source": [
    "import pandas as pd\n",
    "import pyarrow.parquet as pq \n",
    "train = pq.read_table(source='C:/Users/tomas/OneDrive/Escritorio/ORGA DE DATOS/train').to_pandas()\n",
    "test = pq.read_table(source='C:/Users/tomas/OneDrive/Escritorio/ORGA DE DATOS/test').to_pandas()"
   ]
  },
  {
   "cell_type": "code",
   "execution_count": 2,
   "id": "ba15ff2e",
   "metadata": {},
   "outputs": [],
   "source": [
    "for column in train:\n",
    "    if(column == \"content\"):\n",
    "        train[column].fillna(value=\"\",inplace=True)\n",
    "    else:\n",
    "        if(train[column].isnull().sum() != 0):\n",
    "            media = train[column].mean()\n",
    "            train[column].fillna(value=media, inplace=True)"
   ]
  },
  {
   "cell_type": "code",
   "execution_count": 3,
   "id": "33dc980f",
   "metadata": {},
   "outputs": [],
   "source": [
    "for column in test:\n",
    "    if(column == \"content\"):\n",
    "        test[column].fillna(value=\"\",inplace=True)\n",
    "    else:\n",
    "        if(test[column].isnull().sum() != 0):\n",
    "            media = test[column].mean()\n",
    "            test[column].fillna(value=media, inplace=True)"
   ]
  },
  {
   "cell_type": "code",
   "execution_count": 4,
   "id": "4dfec76d",
   "metadata": {},
   "outputs": [],
   "source": [
    "train = train.iloc[:(8*len(train)//10)]\n",
    "valid = train.iloc[(8*len(train)//10):]"
   ]
  },
  {
   "cell_type": "code",
   "execution_count": 5,
   "id": "8b2984cd",
   "metadata": {},
   "outputs": [],
   "source": [
    "X_train = train.drop(['url','timedelta','popular','shares'],axis = 1)\n",
    "y_train = train[\"popular\"]*1\n",
    "\n",
    "X_valid = valid.drop(['url','timedelta','popular','shares'],axis = 1)\n",
    "y_valid = valid[\"popular\"]*1\n",
    "\n",
    "X_test = test.drop(['url','timedelta','popular','shares'],axis = 1)\n",
    "y_test = test[\"popular\"]*1"
   ]
  },
  {
   "cell_type": "code",
   "execution_count": 6,
   "id": "bec65ed2",
   "metadata": {},
   "outputs": [],
   "source": [
    "import numpy as np\n",
    "from sklearn.preprocessing import OneHotEncoder\n",
    "from sklearn.feature_extraction.text import CountVectorizer\n",
    "from category_encoders import TargetEncoder"
   ]
  },
  {
   "cell_type": "code",
   "execution_count": 7,
   "id": "829bd780",
   "metadata": {},
   "outputs": [],
   "source": [
    "ohe_surprise1 = OneHotEncoder()\n",
    "encoded_surp = ohe_surprise1.fit_transform(X_train[[\"surprise1\"]]).toarray()\n",
    "encoded_surp_test = ohe_surprise1.transform(X_test[[\"surprise1\"]]).toarray()\n",
    "encoded_surp_valid = ohe_surprise1.transform(X_valid[[\"surprise1\"]]).toarray()\n",
    "\n",
    "feature_labels = np.array(ohe_surprise1.categories_).ravel()\n",
    "X_train = X_train.reset_index().drop(['index','surprise1'],axis = 1).join(pd.DataFrame(encoded_surp, columns = feature_labels))\n",
    "X_test = X_test.reset_index().drop(['index','surprise1'],axis = 1).join(pd.DataFrame(encoded_surp_test, columns = feature_labels))\n",
    "X_valid = X_valid.reset_index().drop(['index','surprise1'],axis = 1).join(pd.DataFrame(encoded_surp_valid, columns = feature_labels))"
   ]
  },
  {
   "cell_type": "code",
   "execution_count": 8,
   "id": "38b866b3",
   "metadata": {},
   "outputs": [],
   "source": [
    "vect_content = CountVectorizer(analyzer = \"word\", stop_words = \"english\", max_features = 15)\n",
    "encoded_content = vect_content.fit_transform(X_train[\"content\"].tolist()).toarray()\n",
    "encoded_content_test = vect_content.transform(X_test[\"content\"].tolist()).toarray()\n",
    "encoded_content_valid = vect_content.transform(X_valid[\"content\"].tolist()).toarray()"
   ]
  },
  {
   "cell_type": "code",
   "execution_count": 9,
   "id": "5b0e3927",
   "metadata": {},
   "outputs": [],
   "source": [
    "X_train = X_train.reset_index().drop(['index','content'],axis = 1).join(pd.DataFrame(encoded_content, columns = vect_content.get_feature_names_out()))\n",
    "X_test = X_test.reset_index().drop(['index','content'],axis = 1).join(pd.DataFrame(encoded_content_test, columns = vect_content.get_feature_names_out()))\n",
    "X_valid = X_valid.reset_index().drop(['index','content'],axis = 1).join(pd.DataFrame(encoded_content_valid, columns = vect_content.get_feature_names_out()))"
   ]
  },
  {
   "cell_type": "code",
   "execution_count": 10,
   "id": "f1c99c9d",
   "metadata": {},
   "outputs": [
    {
     "name": "stderr",
     "output_type": "stream",
     "text": [
      "C:\\Users\\tomas\\AppData\\Local\\Programs\\Python\\Python37\\lib\\site-packages\\category_encoders\\target_encoder.py:94: FutureWarning: Default parameter min_samples_leaf will change in version 2.6.See https://github.com/scikit-learn-contrib/category_encoders/issues/327\n",
      "  category=FutureWarning)\n",
      "C:\\Users\\tomas\\AppData\\Local\\Programs\\Python\\Python37\\lib\\site-packages\\category_encoders\\target_encoder.py:99: FutureWarning: Default parameter smoothing will change in version 2.6.See https://github.com/scikit-learn-contrib/category_encoders/issues/327\n",
      "  category=FutureWarning)\n"
     ]
    }
   ],
   "source": [
    "te = TargetEncoder()\n",
    "encoded_surp2 = te.fit_transform(X_train[\"surprise2\"],y_train)\n",
    "encoded_surp2_test = te.transform(X_test[\"surprise2\"],y_test)\n",
    "encoded_surp2_valid = te.transform(X_valid[\"surprise2\"],y_valid.reset_index().drop([\"index\"],axis = 1))\n",
    "\n",
    "X_train = X_train.reset_index().drop(['index','surprise2'],axis = 1).join(pd.DataFrame(encoded_surp2, columns = te.get_feature_names()))\n",
    "X_test = X_test.reset_index().drop(['index','surprise2'],axis = 1).join(pd.DataFrame(encoded_surp2_test, columns = te.get_feature_names()))\n",
    "X_valid = X_valid.reset_index().drop(['index','surprise2'],axis = 1).join(pd.DataFrame(encoded_surp2_valid, columns = te.get_feature_names()))"
   ]
  },
  {
   "cell_type": "code",
   "execution_count": 33,
   "id": "5e55e326",
   "metadata": {},
   "outputs": [],
   "source": [
    "from sklearn.ensemble import RandomForestClassifier\n",
    "model = RandomForestClassifier(random_state=42)\n",
    "param_grid = {'bootstrap': [True, False],\n",
    "              'max_depth': [1,2,3,4],\n",
    "              'max_features': ['auto', 'sqrt'],\n",
    "              'min_samples_leaf': [1, 2, 4],\n",
    "              'n_estimators': [200, 400, 600, 800, 1000]}"
   ]
  },
  {
   "cell_type": "code",
   "execution_count": 34,
   "id": "62a363c0",
   "metadata": {},
   "outputs": [
    {
     "name": "stdout",
     "output_type": "stream",
     "text": [
      "Fitting 3 folds for each of 10 candidates, totalling 30 fits\n"
     ]
    },
    {
     "data": {
      "text/plain": [
       "RandomizedSearchCV(cv=3, estimator=RandomForestClassifier(random_state=42),\n",
       "                   n_jobs=-1,\n",
       "                   param_distributions={'bootstrap': [True, False],\n",
       "                                        'max_depth': [1, 2, 3, 4],\n",
       "                                        'max_features': ['auto', 'sqrt'],\n",
       "                                        'min_samples_leaf': [1, 2, 4],\n",
       "                                        'n_estimators': [200, 400, 600, 800,\n",
       "                                                         1000]},\n",
       "                   random_state=42, verbose=True)"
      ]
     },
     "execution_count": 34,
     "metadata": {},
     "output_type": "execute_result"
    }
   ],
   "source": [
    "from sklearn.model_selection import RandomizedSearchCV\n",
    "rs = RandomizedSearchCV(estimator = model, param_distributions = param_grid, cv = 3, verbose = True, n_jobs = -1, random_state = 42)\n",
    "rs.fit(X_train,y_train)"
   ]
  },
  {
   "cell_type": "code",
   "execution_count": 35,
   "id": "d9d25bdc",
   "metadata": {},
   "outputs": [
    {
     "name": "stdout",
     "output_type": "stream",
     "text": [
      "0.793130038555906\n"
     ]
    }
   ],
   "source": [
    "print(rs.best_score_)"
   ]
  },
  {
   "cell_type": "code",
   "execution_count": 36,
   "id": "dd6eafc1",
   "metadata": {},
   "outputs": [],
   "source": [
    "modeloPrueba = rs.best_estimator_"
   ]
  },
  {
   "cell_type": "code",
   "execution_count": 37,
   "id": "fb4b1862",
   "metadata": {},
   "outputs": [
    {
     "data": {
      "text/plain": [
       "RandomForestClassifier(max_depth=1, max_features='sqrt', min_samples_leaf=2,\n",
       "                       n_estimators=1000, random_state=42)"
      ]
     },
     "execution_count": 37,
     "metadata": {},
     "output_type": "execute_result"
    }
   ],
   "source": [
    "modeloPrueba.fit(X_train,y_train)"
   ]
  },
  {
   "cell_type": "code",
   "execution_count": 38,
   "id": "e5b16eb3",
   "metadata": {},
   "outputs": [
    {
     "name": "stdout",
     "output_type": "stream",
     "text": [
      "Accuracy - : 0.793\n"
     ]
    }
   ],
   "source": [
    "print(f'Accuracy - : {modeloPrueba.score(X_train,y_train):.3f}')"
   ]
  },
  {
   "cell_type": "code",
   "execution_count": 39,
   "id": "e8e6802a",
   "metadata": {},
   "outputs": [
    {
     "data": {
      "text/plain": [
       "array([0, 0, 0, ..., 0, 0, 0])"
      ]
     },
     "execution_count": 39,
     "metadata": {},
     "output_type": "execute_result"
    }
   ],
   "source": [
    "prediccion_binaria = modeloPrueba.predict(X_valid)\n",
    "prediccion_binaria\n"
   ]
  },
  {
   "cell_type": "code",
   "execution_count": 40,
   "id": "c3f3885a",
   "metadata": {},
   "outputs": [
    {
     "data": {
      "text/plain": [
       "array([0.19775153, 0.19553239, 0.18065955, ..., 0.20711292, 0.19491697,\n",
       "       0.21464108])"
      ]
     },
     "execution_count": 40,
     "metadata": {},
     "output_type": "execute_result"
    }
   ],
   "source": [
    "proba_preds = modeloPrueba.predict_proba(X_valid)[:,1]\n",
    "proba_preds"
   ]
  },
  {
   "cell_type": "code",
   "execution_count": 41,
   "id": "16536b7e",
   "metadata": {},
   "outputs": [
    {
     "name": "stdout",
     "output_type": "stream",
     "text": [
      "              precision    recall  f1-score   support\n",
      "\n",
      "           0       0.80      1.00      0.89      4586\n",
      "           1       0.00      0.00      0.00      1120\n",
      "\n",
      "    accuracy                           0.80      5706\n",
      "   macro avg       0.40      0.50      0.45      5706\n",
      "weighted avg       0.65      0.80      0.72      5706\n",
      "\n"
     ]
    },
    {
     "name": "stderr",
     "output_type": "stream",
     "text": [
      "C:\\Users\\tomas\\AppData\\Local\\Programs\\Python\\Python37\\lib\\site-packages\\sklearn\\metrics\\_classification.py:1318: UndefinedMetricWarning: Precision and F-score are ill-defined and being set to 0.0 in labels with no predicted samples. Use `zero_division` parameter to control this behavior.\n",
      "  _warn_prf(average, modifier, msg_start, len(result))\n",
      "C:\\Users\\tomas\\AppData\\Local\\Programs\\Python\\Python37\\lib\\site-packages\\sklearn\\metrics\\_classification.py:1318: UndefinedMetricWarning: Precision and F-score are ill-defined and being set to 0.0 in labels with no predicted samples. Use `zero_division` parameter to control this behavior.\n",
      "  _warn_prf(average, modifier, msg_start, len(result))\n",
      "C:\\Users\\tomas\\AppData\\Local\\Programs\\Python\\Python37\\lib\\site-packages\\sklearn\\metrics\\_classification.py:1318: UndefinedMetricWarning: Precision and F-score are ill-defined and being set to 0.0 in labels with no predicted samples. Use `zero_division` parameter to control this behavior.\n",
      "  _warn_prf(average, modifier, msg_start, len(result))\n"
     ]
    }
   ],
   "source": [
    "from sklearn.metrics import classification_report\n",
    "print(classification_report(y_valid, prediccion_binaria))"
   ]
  },
  {
   "cell_type": "code",
   "execution_count": 42,
   "id": "ce26028f",
   "metadata": {},
   "outputs": [
    {
     "data": {
      "text/plain": [
       "0.7020092206093078"
      ]
     },
     "execution_count": 42,
     "metadata": {},
     "output_type": "execute_result"
    }
   ],
   "source": [
    "from sklearn.metrics import roc_auc_score\n",
    "roc_auc_score(y_valid,proba_preds)"
   ]
  },
  {
   "cell_type": "code",
   "execution_count": 43,
   "id": "f5179e5e",
   "metadata": {},
   "outputs": [
    {
     "data": {
      "text/plain": [
       "0.7123260719378623"
      ]
     },
     "execution_count": 43,
     "metadata": {},
     "output_type": "execute_result"
    }
   ],
   "source": [
    "roc_auc_score(y_test,modeloPrueba.predict_proba(X_test)[:,1])"
   ]
  }
 ],
 "metadata": {
  "kernelspec": {
   "display_name": "Python 3 (ipykernel)",
   "language": "python",
   "name": "python3"
  },
  "language_info": {
   "codemirror_mode": {
    "name": "ipython",
    "version": 3
   },
   "file_extension": ".py",
   "mimetype": "text/x-python",
   "name": "python",
   "nbconvert_exporter": "python",
   "pygments_lexer": "ipython3",
   "version": "3.7.9"
  }
 },
 "nbformat": 4,
 "nbformat_minor": 5
}

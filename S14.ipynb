{
 "cells": [
  {
   "cell_type": "code",
   "execution_count": 1,
   "id": "3561bf49",
   "metadata": {},
   "outputs": [],
   "source": [
    "import findspark\n",
    "findspark.init()\n",
    "from pyspark import SparkContext\n",
    "from pyspark.sql import *\n",
    "from pyspark import SparkConf\n",
    "import pyspark as ps\n",
    "import pandas as pd"
   ]
  },
  {
   "cell_type": "code",
   "execution_count": 2,
   "id": "56152dce",
   "metadata": {},
   "outputs": [],
   "source": [
    "conf = (SparkConf()\n",
    "            .setAppName(\"TestRdd\") \\\n",
    "            .set('spark.driver.cores', '1') \\\n",
    "            .set('spark.executor.cores', '3') \\\n",
    "            .set('spark.driver.memory', '4G') \\\n",
    "            .set('spark.executor.memory', '16G'))\\\n",
    "            .set(\"spark.network.timeout\", \"15000s\")\n",
    "sc = SparkContext('local[*]', conf = conf)\n",
    "sqlContext = SQLContext(sc)"
   ]
  },
  {
   "cell_type": "code",
   "execution_count": 3,
   "id": "44d75530",
   "metadata": {},
   "outputs": [],
   "source": [
    "data_reviews =  sqlContext.read.parquet('C:/Users/tomas/OneDrive/Escritorio/ORGA DE DATOS/review.parquet')\n",
    "data_negocios = sqlContext.read.parquet('C:/Users/tomas/OneDrive/Escritorio/ORGA DE DATOS/business.parquet')"
   ]
  },
  {
   "cell_type": "code",
   "execution_count": 109,
   "id": "366510dd",
   "metadata": {
    "scrolled": true
   },
   "outputs": [],
   "source": [
    "reviews = data_reviews.rdd\n",
    "reviews_dict = reviews.map(lambda x: (x.business_id,[float(x.stars)]))"
   ]
  },
  {
   "cell_type": "code",
   "execution_count": 110,
   "id": "f3af113e",
   "metadata": {},
   "outputs": [],
   "source": [
    "negocios = data_negocios.rdd\n",
    "negocios_newOrleans = negocios.filter(lambda x: x.city == \"New Orleans\" and x.review_count > 10)\\\n",
    "                              .map(lambda x: (x.business_id,(x.review_count,x.categories)))\\\n",
    "                              .join(reviews_dict)"
   ]
  },
  {
   "cell_type": "code",
   "execution_count": 158,
   "id": "dd41ecf7",
   "metadata": {},
   "outputs": [],
   "source": [
    "import numpy as np\n",
    "score_promedio = negocios_newOrleans.reduceByKey(lambda x,y: ((x[0][0],x[0][1]),x[1]+y[1]))\\ #Armo una lista con los rating\n",
    "                   .map(lambda x: (x[0],(np.mean(x[1][1])-np.std(x[1][1]), x[1][0][1]))) #Calculo promedio y resto desviacion estandar\n"
   ]
  },
  {
   "cell_type": "code",
   "execution_count": 138,
   "id": "d0ba186a",
   "metadata": {},
   "outputs": [
    {
     "data": {
      "text/plain": [
       "('7ZV31rGcDaT1pUKyvJF9Mg',\n",
       " (4.343714081985016,\n",
       "  'Food, Restaurants, Bakeries, Breakfast & Brunch, French'))"
      ]
     },
     "execution_count": 138,
     "metadata": {},
     "output_type": "execute_result"
    }
   ],
   "source": [
    "score_promedio.filter(lambda x: \"French\" in x[1][1])\\\n",
    "              .reduce(lambda x,y: x if x[1][0] > y[1][0] else y)\n",
    "#CATEGORIA FRENCH"
   ]
  },
  {
   "cell_type": "code",
   "execution_count": 139,
   "id": "166b3cc2",
   "metadata": {
    "scrolled": true
   },
   "outputs": [
    {
     "data": {
      "text/plain": [
       "('2NImXwnAReGSwsr-qJV8EA', (5.0, 'Nightlife, Dive Bars, Bars'))"
      ]
     },
     "execution_count": 139,
     "metadata": {},
     "output_type": "execute_result"
    }
   ],
   "source": [
    "score_promedio.filter(lambda x: \"Bars\" in x[1][1]).reduce(lambda x,y: x if x[1][0] > y[1][0] else y)\n",
    "#CATEGORIA BARS"
   ]
  },
  {
   "cell_type": "code",
   "execution_count": 140,
   "id": "9df5c5f1",
   "metadata": {},
   "outputs": [
    {
     "data": {
      "text/plain": [
       "('_Ac3-9QmcFDxNCHZRkOOlg', (5.0, 'Arts & Entertainment, Museums'))"
      ]
     },
     "execution_count": 140,
     "metadata": {},
     "output_type": "execute_result"
    }
   ],
   "source": [
    "score_promedio.filter(lambda x: \"Museums\" in x[1][1]).reduce(lambda x,y: x if x[1][0] > y[1][0] else y)\n",
    "#CATEGORIA MUSEUMS"
   ]
  },
  {
   "cell_type": "code",
   "execution_count": null,
   "id": "23903d12",
   "metadata": {},
   "outputs": [],
   "source": [
    "#MAPEO\n",
    "#(business_id, (rating promedio, categorias))"
   ]
  }
 ],
 "metadata": {
  "kernelspec": {
   "display_name": "Python 3 (ipykernel)",
   "language": "python",
   "name": "python3"
  },
  "language_info": {
   "codemirror_mode": {
    "name": "ipython",
    "version": 3
   },
   "file_extension": ".py",
   "mimetype": "text/x-python",
   "name": "python",
   "nbconvert_exporter": "python",
   "pygments_lexer": "ipython3",
   "version": "3.7.9"
  }
 },
 "nbformat": 4,
 "nbformat_minor": 5
}

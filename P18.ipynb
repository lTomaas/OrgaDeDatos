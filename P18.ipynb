{
 "cells": [
  {
   "cell_type": "code",
   "execution_count": 11,
   "id": "32382310",
   "metadata": {},
   "outputs": [],
   "source": [
    "import pandas as pd\n",
    "from datetime import datetime\n",
    "df =  pd.read_csv(\"C:/Users/tomas/OneDrive/Escritorio/ORGA DE DATOS/review.csv\", usecols = [\"review_id\",\"user_id\",\"useful\",\"funny\",\"cool\",\"date\"])\n",
    "archivo_usuarios = pd.read_csv(\"C:/Users/tomas/OneDrive/Escritorio/ORGA DE DATOS/user.csv\", usecols = [\"user_id\",\"yelping_since\"])"
   ]
  },
  {
   "cell_type": "code",
   "execution_count": 12,
   "id": "cd51f554",
   "metadata": {},
   "outputs": [],
   "source": [
    "df[\"total_votos\"] = (df.useful + df.funny + df.cool)\n",
    "df.date = pd.to_datetime(df.date)\n",
    "merge = pd.merge(df,archivo_usuarios, on = \"user_id\")"
   ]
  },
  {
   "cell_type": "code",
   "execution_count": 13,
   "id": "3f661f56",
   "metadata": {},
   "outputs": [],
   "source": [
    "merge[\"yelping_since\"] = pd.to_datetime(merge[\"yelping_since\"])\n",
    "merge[\"antiguedad\"] = merge[\"date\"] - merge[\"yelping_since\"]\n",
    "merge[\"antiguedad\"] = merge.antiguedad.dt.days.astype(\"float\")\n",
    "cols = merge[[\"total_votos\",\"antiguedad\"]]"
   ]
  },
  {
   "cell_type": "code",
   "execution_count": 14,
   "id": "27e4d979",
   "metadata": {},
   "outputs": [
    {
     "data": {
      "text/html": [
       "<div>\n",
       "<style scoped>\n",
       "    .dataframe tbody tr th:only-of-type {\n",
       "        vertical-align: middle;\n",
       "    }\n",
       "\n",
       "    .dataframe tbody tr th {\n",
       "        vertical-align: top;\n",
       "    }\n",
       "\n",
       "    .dataframe thead th {\n",
       "        text-align: right;\n",
       "    }\n",
       "</style>\n",
       "<table border=\"1\" class=\"dataframe\">\n",
       "  <thead>\n",
       "    <tr style=\"text-align: right;\">\n",
       "      <th></th>\n",
       "      <th>total_votos</th>\n",
       "      <th>antiguedad</th>\n",
       "    </tr>\n",
       "  </thead>\n",
       "  <tbody>\n",
       "    <tr>\n",
       "      <th>total_votos</th>\n",
       "      <td>1.0000</td>\n",
       "      <td>0.1087</td>\n",
       "    </tr>\n",
       "    <tr>\n",
       "      <th>antiguedad</th>\n",
       "      <td>0.1087</td>\n",
       "      <td>1.0000</td>\n",
       "    </tr>\n",
       "  </tbody>\n",
       "</table>\n",
       "</div>"
      ],
      "text/plain": [
       "             total_votos  antiguedad\n",
       "total_votos       1.0000      0.1087\n",
       "antiguedad        0.1087      1.0000"
      ]
     },
     "execution_count": 14,
     "metadata": {},
     "output_type": "execute_result"
    }
   ],
   "source": [
    "cols_corr = cols.corr()\n",
    "cols_corr"
   ]
  },
  {
   "cell_type": "code",
   "execution_count": null,
   "id": "5ee1160f",
   "metadata": {},
   "outputs": [],
   "source": []
  }
 ],
 "metadata": {
  "kernelspec": {
   "display_name": "Python 3 (ipykernel)",
   "language": "python",
   "name": "python3"
  },
  "language_info": {
   "codemirror_mode": {
    "name": "ipython",
    "version": 3
   },
   "file_extension": ".py",
   "mimetype": "text/x-python",
   "name": "python",
   "nbconvert_exporter": "python",
   "pygments_lexer": "ipython3",
   "version": "3.7.9"
  }
 },
 "nbformat": 4,
 "nbformat_minor": 5
}

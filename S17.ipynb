{
 "cells": [
  {
   "cell_type": "code",
   "execution_count": 1,
   "id": "4cd7b35f",
   "metadata": {},
   "outputs": [],
   "source": [
    "import findspark\n",
    "findspark.init()\n",
    "from pyspark import SparkContext\n",
    "from pyspark.sql import *\n",
    "from pyspark import SparkConf\n",
    "import pyspark as ps\n",
    "import pandas as pd"
   ]
  },
  {
   "cell_type": "code",
   "execution_count": 2,
   "id": "d4c1e921",
   "metadata": {},
   "outputs": [],
   "source": [
    "conf = (SparkConf()\n",
    "            .setAppName(\"TestRdd\") \\\n",
    "            .set('spark.driver.cores', '1') \\\n",
    "            .set('spark.executor.cores', '3') \\\n",
    "            .set('spark.driver.memory', '4G') \\\n",
    "            .set('spark.executor.memory', '16G'))\\\n",
    "            .set(\"spark.network.timeout\", \"15000s\")\n",
    "sc = SparkContext('local[*]', conf = conf)\n",
    "sqlContext = SQLContext(sc)"
   ]
  },
  {
   "cell_type": "code",
   "execution_count": 24,
   "id": "3e612f82",
   "metadata": {},
   "outputs": [],
   "source": [
    "data_reviews =  sqlContext.read.parquet('C:/Users/tomas/OneDrive/Escritorio/ORGA DE DATOS/review.parquet')\n",
    "data_usuarios = sqlContext.read.csv('C:/Users/tomas/OneDrive/Escritorio/ORGA DE DATOS/user.csv', sep=',', multiLine=True,header=True, inferSchema=True)"
   ]
  },
  {
   "cell_type": "code",
   "execution_count": 25,
   "id": "9258b01d",
   "metadata": {},
   "outputs": [],
   "source": [
    "usuarios = data_usuarios.rdd\n",
    "reviews = data_reviews.rdd"
   ]
  },
  {
   "cell_type": "code",
   "execution_count": 26,
   "id": "95e41a3f",
   "metadata": {},
   "outputs": [],
   "source": [
    "fecha_registro = usuarios.map(lambda x: pd.to_datetime(x.yelping_since).to_pydatetime())"
   ]
  },
  {
   "cell_type": "code",
   "execution_count": 27,
   "id": "87bb3d25",
   "metadata": {},
   "outputs": [],
   "source": [
    "cantidad_usuarios = usuarios.count()"
   ]
  },
  {
   "cell_type": "code",
   "execution_count": 28,
   "id": "473b2132",
   "metadata": {},
   "outputs": [],
   "source": [
    "import datetime\n",
    "fecha_actual = datetime.datetime.now()\n",
    "antiguedad_usuarios = fecha_registro.map(lambda x: (fecha_actual - x).days).reduce(lambda x,y: int(x)+int(y))                            "
   ]
  },
  {
   "cell_type": "code",
   "execution_count": 29,
   "id": "c342bcf8",
   "metadata": {},
   "outputs": [
    {
     "name": "stdout",
     "output_type": "stream",
     "text": [
      "Antiguedad promedio de los usuarios:  2780.86147672641 DIAS\n",
      "Antiguedad promedio de los usuarios:  7.618798566373726 AÑOS\n"
     ]
    }
   ],
   "source": [
    "print(\"Antiguedad promedio de los usuarios: \", antiguedad_usuarios/cantidad_usuarios,\"DIAS\")\n",
    "print(\"Antiguedad promedio de los usuarios: \", (antiguedad_usuarios/cantidad_usuarios)/365,\"AÑOS\")"
   ]
  },
  {
   "cell_type": "code",
   "execution_count": null,
   "id": "7586695f",
   "metadata": {},
   "outputs": [],
   "source": []
  },
  {
   "cell_type": "code",
   "execution_count": null,
   "id": "637946b0",
   "metadata": {},
   "outputs": [],
   "source": [
    "#el nombre del usuario más antiguo cuyas última review contenga la palabra ‘pizza’"
   ]
  },
  {
   "cell_type": "code",
   "execution_count": 5,
   "id": "5df9f471",
   "metadata": {},
   "outputs": [],
   "source": [
    "usuarios_id = usuarios.map(lambda x: (x.user_id,((fecha_actual - (pd.to_datetime(x.yelping_since).to_pydatetime())).days,x.name)))\n",
    "reviews_text = reviews.map(lambda x: (x.user_id,(x.text,pd.to_datetime(x.date).to_pydatetime())))"
   ]
  },
  {
   "cell_type": "code",
   "execution_count": 18,
   "id": "63943856",
   "metadata": {},
   "outputs": [],
   "source": [
    "pizza_reviews = reviews_text.reduceByKey(lambda x,y: x if x[1] > y[1] else y)\\\n",
    "                            .filter(lambda x: \"pizza\" in x[1][0])\\\n",
    "                            .map(lambda x: (x[0],x[1][1]))\n",
    "#Me quedo con las reviews ultimas reviews de cada usuario y filtro las que contienen la palabra pizza"
   ]
  },
  {
   "cell_type": "code",
   "execution_count": 30,
   "id": "58590e2c",
   "metadata": {},
   "outputs": [],
   "source": [
    "join_usuarios_reviews = pizza_reviews.join(usuarios_id) "
   ]
  },
  {
   "cell_type": "code",
   "execution_count": 40,
   "id": "cd681fa8",
   "metadata": {},
   "outputs": [
    {
     "data": {
      "text/plain": [
       "('雨琪', 2062)"
      ]
     },
     "execution_count": 40,
     "metadata": {},
     "output_type": "execute_result"
    }
   ],
   "source": [
    "join_usuarios_reviews.map(lambda x: (x[1][1][1],x[1][1][0])).reduce(lambda x,y: x if x > y else y)\n",
    "#Obtengo el usuario mas antiguo"
   ]
  },
  {
   "cell_type": "code",
   "execution_count": null,
   "id": "ba743b7f",
   "metadata": {},
   "outputs": [],
   "source": [
    "#(nombre,antiguedad en dias)"
   ]
  }
 ],
 "metadata": {
  "kernelspec": {
   "display_name": "Python 3 (ipykernel)",
   "language": "python",
   "name": "python3"
  },
  "language_info": {
   "codemirror_mode": {
    "name": "ipython",
    "version": 3
   },
   "file_extension": ".py",
   "mimetype": "text/x-python",
   "name": "python",
   "nbconvert_exporter": "python",
   "pygments_lexer": "ipython3",
   "version": "3.7.9"
  }
 },
 "nbformat": 4,
 "nbformat_minor": 5
}

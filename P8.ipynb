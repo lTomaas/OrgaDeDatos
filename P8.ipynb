{
 "cells": [
  {
   "cell_type": "code",
   "execution_count": 1,
   "id": "ecc372cd",
   "metadata": {},
   "outputs": [],
   "source": [
    "import pandas as pd"
   ]
  },
  {
   "cell_type": "code",
   "execution_count": 2,
   "id": "eb21394a",
   "metadata": {},
   "outputs": [],
   "source": [
    "usuarios = pd.read_csv('C:/Users/tomas/OneDrive/Escritorio/ORGA DE DATOS/user.csv', usecols = [\"user_id\",\"review_count\",\"yelping_since\"])\n",
    "reviews = pd.read_csv('C:/Users/tomas/OneDrive/Escritorio/ORGA DE DATOS/review.csv', usecols = [\"review_id\",\"user_id\",\"date\"])"
   ]
  },
  {
   "cell_type": "code",
   "execution_count": 8,
   "id": "27b935ac",
   "metadata": {},
   "outputs": [],
   "source": [
    "merge = pd.merge(usuarios, reviews, on = \"user_id\")\n",
    "merge.date = pd.to_datetime(nuevo.date)\n",
    "nuevo = merge[(merge.review_count > 100)]"
   ]
  },
  {
   "cell_type": "code",
   "execution_count": 10,
   "id": "7dbd7f10",
   "metadata": {},
   "outputs": [],
   "source": [
    "group = nuevo.groupby([\"user_id\"])[[\"date\"]].agg(list)"
   ]
  },
  {
   "cell_type": "code",
   "execution_count": 11,
   "id": "88c08b87",
   "metadata": {},
   "outputs": [],
   "source": [
    "import statistics\n",
    "import numpy as np\n",
    "group[\"mediana\"] = \" \"\n",
    "pos = 0\n",
    "for k in group.date:\n",
    "    distancias = []\n",
    "    for i in range(0,len(k)-1):\n",
    "        distancias.append(abs(k[i]-k[i+1]))\n",
    "    group[\"mediana\"][pos] = statistics.median(distancias)\n",
    "    pos+=1\n"
   ]
  },
  {
   "cell_type": "code",
   "execution_count": 24,
   "id": "bb015351",
   "metadata": {},
   "outputs": [
    {
     "name": "stdout",
     "output_type": "stream",
     "text": [
      "El usuario con menor mediana de tiempo entre reviews: 9e936RT1yD7j5ZT4RkDR4A\n",
      "Cuya mediana es: 0 days 14:26:17\n"
     ]
    }
   ],
   "source": [
    "indice = group[group.mediana == group.mediana.min()].index.tolist()\n",
    "print(\"El usuario con menor mediana de tiempo entre reviews:\",indice[0])\n",
    "print(\"Cuya mediana es:\",group.mediana[indice[0]])"
   ]
  }
 ],
 "metadata": {
  "kernelspec": {
   "display_name": "Python 3 (ipykernel)",
   "language": "python",
   "name": "python3"
  },
  "language_info": {
   "codemirror_mode": {
    "name": "ipython",
    "version": 3
   },
   "file_extension": ".py",
   "mimetype": "text/x-python",
   "name": "python",
   "nbconvert_exporter": "python",
   "pygments_lexer": "ipython3",
   "version": "3.7.9"
  }
 },
 "nbformat": 4,
 "nbformat_minor": 5
}

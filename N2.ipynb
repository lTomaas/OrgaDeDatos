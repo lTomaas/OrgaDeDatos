{
 "cells": [
  {
   "cell_type": "code",
   "execution_count": 1,
   "id": "06521dc3",
   "metadata": {},
   "outputs": [],
   "source": [
    "import pandas as pd\n",
    "import nltk\n",
    "from sklearn.feature_extraction.text import TfidfVectorizer\n",
    "df =  pd.read_csv(\"C:/Users/tomas/OneDrive/Escritorio/ORGA DE DATOS/review.csv\", usecols = [\"business_id\",\"text\"])\n",
    "df2 = pd.read_csv(\"C:/Users/tomas/OneDrive/Escritorio/ORGA DE DATOS/business.csv\", usecols = [\"business_id\", \"name\",\"city\",\"categories\"])"
   ]
  },
  {
   "cell_type": "code",
   "execution_count": 2,
   "id": "9ead887f",
   "metadata": {},
   "outputs": [],
   "source": [
    "df2.categories = df2.categories.fillna(\" \")\n",
    "df_comidas = df2[df2[\"categories\"].str.contains(\"Pizza\")]\n",
    "nuevo = pd.merge(df_comidas, df, on = \"business_id\")\n",
    "texts = nuevo.text.tolist()"
   ]
  },
  {
   "cell_type": "code",
   "execution_count": 3,
   "id": "08393576",
   "metadata": {},
   "outputs": [
    {
     "name": "stderr",
     "output_type": "stream",
     "text": [
      "[nltk_data] Downloading package punkt to\n",
      "[nltk_data]     C:\\Users\\tomas\\AppData\\Roaming\\nltk_data...\n",
      "[nltk_data]   Package punkt is already up-to-date!\n",
      "[nltk_data] Downloading package stopwords to\n",
      "[nltk_data]     C:\\Users\\tomas\\AppData\\Roaming\\nltk_data...\n",
      "[nltk_data]   Package stopwords is already up-to-date!\n"
     ]
    }
   ],
   "source": [
    "from nltk.corpus import stopwords\n",
    "nltk.download('punkt')\n",
    "nltk.download('stopwords')\n",
    "stopwords_eng = set(stopwords.words('english'))"
   ]
  },
  {
   "cell_type": "code",
   "execution_count": 4,
   "id": "d0af661e",
   "metadata": {},
   "outputs": [],
   "source": [
    "tf_idf_vectorizer = TfidfVectorizer(lowercase = True, stop_words = stopwords_eng, max_features = 20000)\n",
    "tf_idf_matrix =  tf_idf_vectorizer.fit_transform(texts)"
   ]
  },
  {
   "cell_type": "code",
   "execution_count": 5,
   "id": "4d8c5092",
   "metadata": {},
   "outputs": [
    {
     "data": {
      "text/plain": [
       "<263582x20000 sparse matrix of type '<class 'numpy.float64'>'\n",
       "\twith 9935776 stored elements in Compressed Sparse Row format>"
      ]
     },
     "execution_count": 5,
     "metadata": {},
     "output_type": "execute_result"
    }
   ],
   "source": [
    "import numpy as np\n",
    "from sklearn.neighbors import NearestNeighbors\n",
    "tf_idf_matrix.astype(np.int32)\n",
    "nbrs_idf = NearestNeighbors(metric = \"cosine\", algorithm = \"brute\")\n",
    "tf_idf_matrix"
   ]
  },
  {
   "cell_type": "code",
   "execution_count": 6,
   "id": "84e1c2a1",
   "metadata": {},
   "outputs": [
    {
     "data": {
      "text/plain": [
       "NearestNeighbors(algorithm='brute', metric='cosine')"
      ]
     },
     "execution_count": 6,
     "metadata": {},
     "output_type": "execute_result"
    }
   ],
   "source": [
    "nbrs_idf.fit(tf_idf_matrix)"
   ]
  },
  {
   "cell_type": "code",
   "execution_count": 7,
   "id": "b62f96c2",
   "metadata": {},
   "outputs": [],
   "source": [
    "query = tf_idf_vectorizer.transform([\"high quality\"])\n",
    "distancia, indices = nbrs_idf.kneighbors(query, n_neighbors = 5)"
   ]
  },
  {
   "cell_type": "code",
   "execution_count": 8,
   "id": "0252c85d",
   "metadata": {},
   "outputs": [
    {
     "name": "stdout",
     "output_type": "stream",
     "text": [
      "Indice 262939 :  This is a favorite place of ours for high quality pizza. They have a great selection of personal pies to choose from. It is high quality pizza that is crisp and refreshing. We haven't ordered salads but have heard they are favorable! \n",
      "\n",
      "Indice 77827 :  Have the pleasure of finding myself in close proximity to this location. While I've been a longtime fan of Sauce in general, this location has become my go to. The food quality is always amazing, and the staff is very friendly and accommodating. Coming so often, I have the chance to notice the personal touch they add to service. Always a friendly face, good tasting fresh food, and high quality service from the beginning of the experience until the end. High quality people and high quality food, can't beat it!! \n",
      "\n",
      "Indice 155778 :  They have such high quality, fresh and authentic Italian dishes here. I couldn't recommend this place more! \n",
      "\n",
      "Indice 104048 :  This pizza was right on the money and I will definitely be ordering again soon!!!  It was a high quality pizza for sure. \n",
      "\n",
      "Indice 59711 :  Is nice, high quality food and atmosphere, maybe a little pricey though. Is nice, high quality food and atmosphere, maybe a little pricey though. Is nice, high quality food and atmosphere, maybe a little pricey though. \n",
      "\n"
     ]
    }
   ],
   "source": [
    "for ind in indices[0]:\n",
    "    print(\"Indice\",ind,\": \", texts[ind],\"\\n\")"
   ]
  },
  {
   "cell_type": "code",
   "execution_count": 9,
   "id": "ad359a54",
   "metadata": {},
   "outputs": [],
   "source": [
    "review = nuevo.text.iloc[indices[0][0]]\n",
    "nombre = nuevo.name.iloc[indices[0][0]]\n",
    "ciudad = nuevo.city.iloc[indices[0][0]]"
   ]
  },
  {
   "cell_type": "code",
   "execution_count": 10,
   "id": "87737a0a",
   "metadata": {},
   "outputs": [
    {
     "name": "stdout",
     "output_type": "stream",
     "text": [
      "La pizzeria reconocida por la calidad de sus productos es Spuntino Wood Fired Pizza ubicado en Philadelphia cuya review es \n",
      " This is a favorite place of ours for high quality pizza. They have a great selection of personal pies to choose from. It is high quality pizza that is crisp and refreshing. We haven't ordered salads but have heard they are favorable!\n"
     ]
    }
   ],
   "source": [
    "print(\"La pizzeria reconocida por la calidad de sus productos es\", nombre, \"ubicado en\", ciudad, \"cuya review es \\n\", review)"
   ]
  },
  {
   "cell_type": "code",
   "execution_count": null,
   "id": "e63b37a3",
   "metadata": {},
   "outputs": [],
   "source": []
  }
 ],
 "metadata": {
  "kernelspec": {
   "display_name": "Python 3 (ipykernel)",
   "language": "python",
   "name": "python3"
  },
  "language_info": {
   "codemirror_mode": {
    "name": "ipython",
    "version": 3
   },
   "file_extension": ".py",
   "mimetype": "text/x-python",
   "name": "python",
   "nbconvert_exporter": "python",
   "pygments_lexer": "ipython3",
   "version": "3.7.9"
  }
 },
 "nbformat": 4,
 "nbformat_minor": 5
}

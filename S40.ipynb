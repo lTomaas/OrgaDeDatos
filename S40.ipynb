{
 "cells": [
  {
   "cell_type": "code",
   "execution_count": 1,
   "id": "e3860aa9",
   "metadata": {},
   "outputs": [],
   "source": [
    "import findspark\n",
    "findspark.init()\n",
    "from pyspark import SparkContext\n",
    "from pyspark.sql import *\n",
    "from pyspark import SparkConf\n",
    "import pyspark as ps\n",
    "import pandas as pd"
   ]
  },
  {
   "cell_type": "code",
   "execution_count": 2,
   "id": "00a04641",
   "metadata": {},
   "outputs": [],
   "source": [
    "conf = (SparkConf()\n",
    "            .setAppName(\"TestRdd\") \\\n",
    "            .set('spark.driver.cores', '4') \\\n",
    "            .set('spark.executor.cores', '4') \\\n",
    "            .set('spark.driver.memory', '32G') \\\n",
    "            .set('spark.executor.memory', '32G'))\\\n",
    "            .set(\"spark.sql.broadcastTimeout\", \"72000\")\\\n",
    "            .set('spark.shuffle.service.enabled', 'TRUE') \\\n",
    "            .set(\"spark.debug.maxToStringFields\" , \"100\")\\\n",
    "            .set(\"spark.executor.heartbeatInterval\", \"14400\")\\\n",
    "            .set(\"spark.network.timeout\", \"70000s\")\n",
    "sc = SparkContext('local', conf = conf)\n",
    "sqlContext = SQLContext(sc)"
   ]
  },
  {
   "cell_type": "code",
   "execution_count": 3,
   "id": "ed025c31",
   "metadata": {},
   "outputs": [],
   "source": [
    "data_reviews =  sqlContext.read.parquet('C:/Users/tomas/OneDrive/Escritorio/ORGA DE DATOS/review.parquet')\n",
    "data_tips = sqlContext.read.parquet('C:/Users/tomas/OneDrive/Escritorio/ORGA DE DATOS/tip.parquet')\n",
    "data_negocios = sqlContext.read.parquet('C:/Users/tomas/OneDrive/Escritorio/ORGA DE DATOS/business.parquet')"
   ]
  },
  {
   "cell_type": "code",
   "execution_count": 4,
   "id": "bac5d016",
   "metadata": {},
   "outputs": [],
   "source": [
    "reviews = data_reviews.rdd\n",
    "tips = data_tips.rdd\n",
    "negocios = data_negocios.rdd"
   ]
  },
  {
   "cell_type": "code",
   "execution_count": 5,
   "id": "f5c9e5bd",
   "metadata": {},
   "outputs": [],
   "source": [
    "tips_fuck = tips.filter(lambda x:  x.text is not None and \"fuck\" in x.text).map(lambda x: ((x.business_id,x.user_id),x.text.count(\"fuck\")))\n",
    "reviews_fuck = reviews.filter(lambda x: \"fuck\" in x.text).map(lambda x: ((x.business_id,x.user_id),(x.text.count(\"fuck\"),x.stars)))"
   ]
  },
  {
   "cell_type": "code",
   "execution_count": null,
   "id": "04ab4711",
   "metadata": {},
   "outputs": [],
   "source": []
  },
  {
   "cell_type": "code",
   "execution_count": null,
   "id": "f403f997",
   "metadata": {},
   "outputs": [],
   "source": []
  },
  {
   "cell_type": "code",
   "execution_count": 12,
   "id": "c71a9618",
   "metadata": {},
   "outputs": [],
   "source": [
    "#Para las reviews, ¿cuál es el promedio del score?"
   ]
  },
  {
   "cell_type": "code",
   "execution_count": 13,
   "id": "731311bc",
   "metadata": {},
   "outputs": [
    {
     "data": {
      "text/plain": [
       "1.9745693191140279"
      ]
     },
     "execution_count": 13,
     "metadata": {},
     "output_type": "execute_result"
    }
   ],
   "source": [
    "reviews_fuck.map(lambda x: x[1][1]).reduce(lambda x,y: x+y)/reviews_fuck.count()\n",
    "#Mapeo (x.text.count(fuck)) cuenta los \"fuck\" en el texto"
   ]
  },
  {
   "cell_type": "code",
   "execution_count": null,
   "id": "10a97cea",
   "metadata": {},
   "outputs": [],
   "source": []
  },
  {
   "cell_type": "code",
   "execution_count": null,
   "id": "9cebc659",
   "metadata": {},
   "outputs": [],
   "source": []
  },
  {
   "cell_type": "code",
   "execution_count": null,
   "id": "7f74b635",
   "metadata": {},
   "outputs": [],
   "source": [
    "#¿Cuál es el usuario que más veces usó la palabra en ambas tablas?"
   ]
  },
  {
   "cell_type": "code",
   "execution_count": 22,
   "id": "fdcd72b2",
   "metadata": {},
   "outputs": [],
   "source": [
    "usuarios_reviews_fuck = reviews_fuck.map(lambda x: (x[0][1],x[1][0])).reduceByKey(lambda x,y: x+y)\n",
    "usuarios_tips_fuck = tips_fuck.map(lambda x: (x[0][1],x[1])).reduceByKey(lambda x,y: x+y)"
   ]
  },
  {
   "cell_type": "code",
   "execution_count": 26,
   "id": "8aa2364f",
   "metadata": {},
   "outputs": [
    {
     "data": {
      "text/plain": [
       "('oR5az_eNCnfN7e49H3ONhg', 280)"
      ]
     },
     "execution_count": 26,
     "metadata": {},
     "output_type": "execute_result"
    }
   ],
   "source": [
    "usuarios_reviews_fuck.fullOuterJoin(usuarios_tips_fuck).map(lambda x: (x[0],(x[1][0] or 0)+(x[1][1] or 0)))\\\n",
    "                     .reduce(lambda x,y: x if x[1] > y[1] else y)"
   ]
  },
  {
   "cell_type": "code",
   "execution_count": null,
   "id": "65ddc7c1",
   "metadata": {},
   "outputs": [],
   "source": []
  },
  {
   "cell_type": "code",
   "execution_count": null,
   "id": "63ce80ef",
   "metadata": {},
   "outputs": [],
   "source": []
  },
  {
   "cell_type": "code",
   "execution_count": 12,
   "id": "4aabb3a3",
   "metadata": {},
   "outputs": [],
   "source": [
    "#¿Cuál es el negocio que más veces recibió la palabra en ambas tablas?"
   ]
  },
  {
   "cell_type": "code",
   "execution_count": 18,
   "id": "dee06a56",
   "metadata": {},
   "outputs": [],
   "source": [
    "negocios_reviews_fuck = reviews_fuck.map(lambda x: (x[0][0],x[1][0])).reduceByKey(lambda x,y: x+y)\n",
    "negocios_tips_fuck = tips_fuck.map(lambda x: (x[0][0],x[1])).reduceByKey(lambda x,y: x+y)"
   ]
  },
  {
   "cell_type": "code",
   "execution_count": 21,
   "id": "67a86ba8",
   "metadata": {},
   "outputs": [
    {
     "data": {
      "text/plain": [
       "('BnzAXu_3S2CRQOG_vMIYRw', 14)"
      ]
     },
     "execution_count": 21,
     "metadata": {},
     "output_type": "execute_result"
    }
   ],
   "source": [
    "negocios_reviews_fuck.fullOuterJoin(negocios_tips_fuck).map(lambda x: (x[0],(x[1][0] or 0)+(x[1][1] or 0)))\\\n",
    "                     .reduce(lambda x,y: x if x[1] > y[1] else y)"
   ]
  },
  {
   "cell_type": "code",
   "execution_count": null,
   "id": "fc844e2e",
   "metadata": {},
   "outputs": [],
   "source": []
  },
  {
   "cell_type": "code",
   "execution_count": null,
   "id": "91949bdd",
   "metadata": {},
   "outputs": [],
   "source": []
  },
  {
   "cell_type": "code",
   "execution_count": 16,
   "id": "a93cad73",
   "metadata": {},
   "outputs": [],
   "source": [
    "#¿Cuál es el negocio de más de 3 reviews con mayor ratio de textos que contienen “fuck”?"
   ]
  },
  {
   "cell_type": "code",
   "execution_count": 10,
   "id": "f71ce8b4",
   "metadata": {},
   "outputs": [],
   "source": [
    "cant_reviews = reviews_fuck.count()"
   ]
  },
  {
   "cell_type": "code",
   "execution_count": 6,
   "id": "52a73081",
   "metadata": {},
   "outputs": [],
   "source": [
    "negocios_reviews = negocios.filter(lambda x: x.review_count > 3).map(lambda x: (x.business_id,int(x.review_count)))"
   ]
  },
  {
   "cell_type": "code",
   "execution_count": 7,
   "id": "18702aae",
   "metadata": {},
   "outputs": [],
   "source": [
    "ratio_negocios_fuck = negocios_reviews.join(reviews_fuck.map(lambda x: (x[0][0],x[1][0])).reduceByKey(lambda x,y: x+y))"
   ]
  },
  {
   "cell_type": "code",
   "execution_count": 11,
   "id": "f4e2b4a7",
   "metadata": {},
   "outputs": [
    {
     "data": {
      "text/plain": [
       "('BnzAXu_3S2CRQOG_vMIYRw', 0.0022969647251845776)"
      ]
     },
     "execution_count": 11,
     "metadata": {},
     "output_type": "execute_result"
    }
   ],
   "source": [
    "ratio_negocios_fuck.map(lambda x: (x[0],x[1][1]/cant_reviews)).reduce(lambda x,y: x if x[1] > y[1] else y) "
   ]
  },
  {
   "cell_type": "code",
   "execution_count": null,
   "id": "a848cc8c",
   "metadata": {},
   "outputs": [],
   "source": []
  },
  {
   "cell_type": "code",
   "execution_count": null,
   "id": "64293331",
   "metadata": {},
   "outputs": [],
   "source": []
  },
  {
   "cell_type": "code",
   "execution_count": 57,
   "id": "5aa7062f",
   "metadata": {},
   "outputs": [],
   "source": [
    "#Para los negocios con textos que tienen “fuck”\n",
    "#correlacione el rating promedio del negocio con su ratio de “fuck” en textos."
   ]
  },
  {
   "cell_type": "code",
   "execution_count": 16,
   "id": "77335502",
   "metadata": {},
   "outputs": [],
   "source": [
    "negocios_rating_reviews = negocios.filter(lambda x: x.review_count != 0)\\\n",
    "                                  .map(lambda x: (x.business_id,(int(x.stars),int(x.review_count))))"
   ]
  },
  {
   "cell_type": "code",
   "execution_count": 6,
   "id": "bcec1132",
   "metadata": {},
   "outputs": [],
   "source": [
    "r = reviews_fuck.map(lambda x: (x[0][0],x[1][0])).reduceByKey(lambda x,y: x+y)\n",
    "t = tips_fuck.map(lambda x: (x[0][0],x[1])).reduceByKey(lambda x,y: x+y)"
   ]
  },
  {
   "cell_type": "code",
   "execution_count": 15,
   "id": "a69850ac",
   "metadata": {},
   "outputs": [],
   "source": [
    "reviews_tips_fuck = r.fullOuterJoin(t).map(lambda x: (x[0],(x[1][0] or 0)+(x[1][1] or 0)))"
   ]
  },
  {
   "cell_type": "code",
   "execution_count": 12,
   "id": "64c77ba6",
   "metadata": {},
   "outputs": [],
   "source": [
    "negocios_reviews_tips = negocios_rating_reviews.join(rt)"
   ]
  },
  {
   "cell_type": "code",
   "execution_count": 13,
   "id": "c38e25e8",
   "metadata": {},
   "outputs": [],
   "source": [
    "correlacion = negocios_reviews_tips.map(lambda x: (x[1][0][0],x[1][1]/x[1][0][1]))"
   ]
  },
  {
   "cell_type": "code",
   "execution_count": 14,
   "id": "27cb5ece",
   "metadata": {},
   "outputs": [
    {
     "name": "stdout",
     "output_type": "stream",
     "text": [
      "[[ 1.         -0.22558112]\n",
      " [-0.22558112  1.        ]]\n"
     ]
    }
   ],
   "source": [
    "from pyspark.mllib.stat import Statistics\n",
    "print(Statistics.corr(correlacion, method=\"pearson\")) #CORRELACION"
   ]
  }
 ],
 "metadata": {
  "kernelspec": {
   "display_name": "Python 3 (ipykernel)",
   "language": "python",
   "name": "python3"
  },
  "language_info": {
   "codemirror_mode": {
    "name": "ipython",
    "version": 3
   },
   "file_extension": ".py",
   "mimetype": "text/x-python",
   "name": "python",
   "nbconvert_exporter": "python",
   "pygments_lexer": "ipython3",
   "version": "3.7.9"
  }
 },
 "nbformat": 4,
 "nbformat_minor": 5
}

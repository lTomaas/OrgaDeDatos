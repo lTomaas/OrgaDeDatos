{
 "cells": [
  {
   "cell_type": "code",
   "execution_count": 1,
   "id": "f05f8b08",
   "metadata": {},
   "outputs": [],
   "source": [
    "import pandas as pd\n",
    "import pyarrow.parquet as pq \n",
    "train = pq.read_table(source='C:/Users/tomas/OneDrive/Escritorio/ORGA DE DATOS/train').to_pandas()\n",
    "test = pq.read_table(source='C:/Users/tomas/OneDrive/Escritorio/ORGA DE DATOS/test').to_pandas()"
   ]
  },
  {
   "cell_type": "code",
   "execution_count": 2,
   "id": "cc9ceb48",
   "metadata": {},
   "outputs": [],
   "source": [
    "for column in train:\n",
    "    if(column == \"content\"):\n",
    "        train[column].fillna(value=\"\",inplace=True)\n",
    "    else:\n",
    "        if(train[column].isnull().sum() != 0):\n",
    "            media = train[column].mean()\n",
    "            train[column].fillna(value=media, inplace=True)\n",
    "\n",
    "for column in test:\n",
    "    if(column == \"content\"):\n",
    "        test[column].fillna(value=\"\",inplace=True)\n",
    "    else:\n",
    "        if(test[column].isnull().sum() != 0):\n",
    "            media = test[column].mean()\n",
    "            test[column].fillna(value=media, inplace=True)"
   ]
  },
  {
   "cell_type": "code",
   "execution_count": 3,
   "id": "54dd6664",
   "metadata": {},
   "outputs": [],
   "source": [
    "train = train.iloc[:(8*len(train)//10)]\n",
    "valid = train.iloc[(8*len(train)//10):]\n",
    "\n",
    "X_train = train.drop(['url','timedelta','popular','shares'],axis = 1)\n",
    "y_train = train[\"popular\"]*1\n",
    "\n",
    "X_valid = valid.drop(['url','timedelta','popular','shares'],axis = 1)\n",
    "y_valid = valid[\"popular\"]*1\n",
    "\n",
    "X_test = test.drop(['url','timedelta','popular','shares'],axis = 1)\n",
    "y_test = test[\"popular\"]*1"
   ]
  },
  {
   "cell_type": "code",
   "execution_count": 4,
   "id": "70d3328c",
   "metadata": {},
   "outputs": [],
   "source": [
    "import numpy as np\n",
    "from sklearn.preprocessing import OneHotEncoder\n",
    "from sklearn.feature_extraction.text import CountVectorizer\n",
    "from category_encoders import TargetEncoder"
   ]
  },
  {
   "cell_type": "code",
   "execution_count": 5,
   "id": "28bfa125",
   "metadata": {},
   "outputs": [],
   "source": [
    "ohe_surprise1 = OneHotEncoder()\n",
    "encoded_surp = ohe_surprise1.fit_transform(X_train[[\"surprise1\"]]).toarray()\n",
    "encoded_surp_test = ohe_surprise1.transform(X_test[[\"surprise1\"]]).toarray()\n",
    "encoded_surp_valid = ohe_surprise1.transform(X_valid[[\"surprise1\"]]).toarray()\n",
    "\n",
    "feature_labels = np.array(ohe_surprise1.categories_).ravel()\n",
    "X_train = X_train.reset_index().drop(['index','surprise1'],axis = 1).join(pd.DataFrame(encoded_surp, columns = feature_labels))\n",
    "X_test = X_test.reset_index().drop(['index','surprise1'],axis = 1).join(pd.DataFrame(encoded_surp_test, columns = feature_labels))\n",
    "X_valid = X_valid.reset_index().drop(['index','surprise1'],axis = 1).join(pd.DataFrame(encoded_surp_valid, columns = feature_labels))"
   ]
  },
  {
   "cell_type": "code",
   "execution_count": 6,
   "id": "bdc1d289",
   "metadata": {},
   "outputs": [],
   "source": [
    "vect_content = CountVectorizer(analyzer = \"word\", stop_words = \"english\", max_features = 15)\n",
    "encoded_content = vect_content.fit_transform(X_train[\"content\"].tolist()).toarray()\n",
    "encoded_content_test = vect_content.transform(X_test[\"content\"].tolist()).toarray()\n",
    "encoded_content_valid = vect_content.transform(X_valid[\"content\"].tolist()).toarray()\n",
    "\n",
    "X_train = X_train.reset_index().drop(['index','content'],axis = 1).join(pd.DataFrame(encoded_content, columns = vect_content.get_feature_names_out()))\n",
    "X_test = X_test.reset_index().drop(['index','content'],axis = 1).join(pd.DataFrame(encoded_content_test, columns = vect_content.get_feature_names_out()))\n",
    "X_valid = X_valid.reset_index().drop(['index','content'],axis = 1).join(pd.DataFrame(encoded_content_valid, columns = vect_content.get_feature_names_out()))"
   ]
  },
  {
   "cell_type": "code",
   "execution_count": 7,
   "id": "bf62975b",
   "metadata": {},
   "outputs": [
    {
     "name": "stderr",
     "output_type": "stream",
     "text": [
      "C:\\Users\\tomas\\AppData\\Local\\Programs\\Python\\Python37\\lib\\site-packages\\category_encoders\\target_encoder.py:94: FutureWarning: Default parameter min_samples_leaf will change in version 2.6.See https://github.com/scikit-learn-contrib/category_encoders/issues/327\n",
      "  category=FutureWarning)\n",
      "C:\\Users\\tomas\\AppData\\Local\\Programs\\Python\\Python37\\lib\\site-packages\\category_encoders\\target_encoder.py:99: FutureWarning: Default parameter smoothing will change in version 2.6.See https://github.com/scikit-learn-contrib/category_encoders/issues/327\n",
      "  category=FutureWarning)\n"
     ]
    }
   ],
   "source": [
    "te = TargetEncoder()\n",
    "encoded_surp2 = te.fit_transform(X_train[\"surprise2\"],y_train)\n",
    "encoded_surp2_test = te.transform(X_test[\"surprise2\"],y_test)\n",
    "encoded_surp2_valid = te.transform(X_valid[\"surprise2\"],y_valid.reset_index().drop([\"index\"],axis = 1))\n",
    "\n",
    "X_train = X_train.reset_index().drop(['index','surprise2'],axis = 1).join(pd.DataFrame(encoded_surp2, columns = te.get_feature_names()))\n",
    "X_test = X_test.reset_index().drop(['index','surprise2'],axis = 1).join(pd.DataFrame(encoded_surp2_test, columns = te.get_feature_names()))\n",
    "X_valid = X_valid.reset_index().drop(['index','surprise2'],axis = 1).join(pd.DataFrame(encoded_surp2_valid, columns = te.get_feature_names()))"
   ]
  },
  {
   "cell_type": "code",
   "execution_count": 8,
   "id": "dfcdda13",
   "metadata": {},
   "outputs": [],
   "source": [
    "from xgboost import XGBClassifier\n",
    "from sklearn.model_selection import RandomizedSearchCV\n",
    "model = XGBClassifier()\n",
    "param_grid={\"learning_rate\": (0.05, 0.10, 0.15),\n",
    "            \"max_depth\": [1,2,3,4,5,6,8,9,10,11],\n",
    "            \"min_child_weight\": [ 1, 3, 5, 7],\n",
    "            \"gamma\":[ 0.0, 0.1, 0.2],\n",
    "            'n_estimators': [200, 400, 600, 800, 1000],\n",
    "            \"colsample_bytree\":[ 0.3, 0.4]}"
   ]
  },
  {
   "cell_type": "code",
   "execution_count": 9,
   "id": "b9033f2d",
   "metadata": {},
   "outputs": [
    {
     "name": "stdout",
     "output_type": "stream",
     "text": [
      "Fitting 3 folds for each of 10 candidates, totalling 30 fits\n"
     ]
    },
    {
     "data": {
      "text/plain": [
       "RandomizedSearchCV(cv=3,\n",
       "                   estimator=XGBClassifier(base_score=None, booster=None,\n",
       "                                           callbacks=None,\n",
       "                                           colsample_bylevel=None,\n",
       "                                           colsample_bynode=None,\n",
       "                                           colsample_bytree=None,\n",
       "                                           early_stopping_rounds=None,\n",
       "                                           enable_categorical=False,\n",
       "                                           eval_metric=None, gamma=None,\n",
       "                                           gpu_id=None, grow_policy=None,\n",
       "                                           importance_type=None,\n",
       "                                           interaction_constraints=None,\n",
       "                                           learning_rate=None, max_bin=None,...\n",
       "                                           n_estimators=100, n_jobs=None,\n",
       "                                           num_parallel_tree=None,\n",
       "                                           predictor=None, random_state=None,\n",
       "                                           reg_alpha=None, reg_lambda=None, ...),\n",
       "                   n_jobs=-1,\n",
       "                   param_distributions={'colsample_bytree': [0.3, 0.4],\n",
       "                                        'gamma': [0.0, 0.1, 0.2],\n",
       "                                        'learning_rate': (0.05, 0.1, 0.15),\n",
       "                                        'max_depth': [1, 2, 3, 4, 5, 6, 8, 9,\n",
       "                                                      10, 11],\n",
       "                                        'min_child_weight': [1, 3, 5, 7],\n",
       "                                        'n_estimators': [200, 400, 600, 800,\n",
       "                                                         1000]},\n",
       "                   random_state=42, verbose=2)"
      ]
     },
     "execution_count": 9,
     "metadata": {},
     "output_type": "execute_result"
    }
   ],
   "source": [
    "rs_xgb = RandomizedSearchCV(estimator = model, param_distributions = param_grid, cv = 3, verbose = 2, n_jobs = -1, random_state = 42)\n",
    "rs_xgb.fit(X_train,y_train)"
   ]
  },
  {
   "cell_type": "code",
   "execution_count": 10,
   "id": "e8782b4c",
   "metadata": {},
   "outputs": [],
   "source": [
    "from sklearn.ensemble import RandomForestClassifier\n",
    "model = RandomForestClassifier(random_state=42)\n",
    "param_grid = {'bootstrap': [True, False],\n",
    "              'max_depth': [1,2,3,4,5,6,8,9,10,11],\n",
    "              'max_features': ['auto', 'sqrt'],\n",
    "              'min_samples_leaf': [1, 2, 4],\n",
    "              'n_estimators': [200, 400, 600, 800, 1000]}"
   ]
  },
  {
   "cell_type": "code",
   "execution_count": 11,
   "id": "8ec6b472",
   "metadata": {},
   "outputs": [
    {
     "name": "stdout",
     "output_type": "stream",
     "text": [
      "Fitting 3 folds for each of 10 candidates, totalling 30 fits\n"
     ]
    },
    {
     "data": {
      "text/plain": [
       "RandomizedSearchCV(cv=3, estimator=RandomForestClassifier(random_state=42),\n",
       "                   n_jobs=-1,\n",
       "                   param_distributions={'bootstrap': [True, False],\n",
       "                                        'max_depth': [1, 2, 3, 4, 5, 6, 8, 9,\n",
       "                                                      10, 11],\n",
       "                                        'max_features': ['auto', 'sqrt'],\n",
       "                                        'min_samples_leaf': [1, 2, 4],\n",
       "                                        'n_estimators': [200, 400, 600, 800,\n",
       "                                                         1000]},\n",
       "                   random_state=42, verbose=True)"
      ]
     },
     "execution_count": 11,
     "metadata": {},
     "output_type": "execute_result"
    }
   ],
   "source": [
    "rs_rfc = RandomizedSearchCV(estimator = model, param_distributions = param_grid, cv = 3, verbose = True, n_jobs = -1, random_state = 42)\n",
    "rs_rfc.fit(X_train,y_train)"
   ]
  },
  {
   "cell_type": "code",
   "execution_count": 12,
   "id": "64a8645a",
   "metadata": {},
   "outputs": [],
   "source": [
    "from sklearn.ensemble import VotingClassifier\n",
    "rfc = rs_rfc.best_estimator_\n",
    "xgbc = rs_xgb.best_estimator_"
   ]
  },
  {
   "cell_type": "code",
   "execution_count": 13,
   "id": "9a967e44",
   "metadata": {},
   "outputs": [],
   "source": [
    "evc = VotingClassifier(estimators = [(\"rfc\",rfc),(\"xgbc\",xgbc)], voting = \"soft\")"
   ]
  },
  {
   "cell_type": "code",
   "execution_count": 14,
   "id": "7382bdf3",
   "metadata": {},
   "outputs": [
    {
     "data": {
      "text/plain": [
       "VotingClassifier(estimators=[('rfc',\n",
       "                              RandomForestClassifier(max_depth=11,\n",
       "                                                     min_samples_leaf=4,\n",
       "                                                     n_estimators=1000,\n",
       "                                                     random_state=42)),\n",
       "                             ('xgbc',\n",
       "                              XGBClassifier(base_score=0.5, booster='gbtree',\n",
       "                                            callbacks=None, colsample_bylevel=1,\n",
       "                                            colsample_bynode=1,\n",
       "                                            colsample_bytree=0.3,\n",
       "                                            early_stopping_rounds=None,\n",
       "                                            enable_categorical=False,\n",
       "                                            eval_metric=None, gamma=0.1,\n",
       "                                            gpu_id=-1, grow_policy='depthwise',\n",
       "                                            importance_type=None,\n",
       "                                            interaction_constraints='',\n",
       "                                            learning_rate=0.1, max_bin=256,\n",
       "                                            max_cat_to_onehot=4,\n",
       "                                            max_delta_step=0, max_depth=4,\n",
       "                                            max_leaves=0, min_child_weight=1,\n",
       "                                            missing=nan,\n",
       "                                            monotone_constraints='()',\n",
       "                                            n_estimators=200, n_jobs=0,\n",
       "                                            num_parallel_tree=1,\n",
       "                                            predictor='auto', random_state=0,\n",
       "                                            reg_alpha=0, reg_lambda=1, ...))],\n",
       "                 voting='soft')"
      ]
     },
     "execution_count": 14,
     "metadata": {},
     "output_type": "execute_result"
    }
   ],
   "source": [
    "evc.fit(X_train,y_train)"
   ]
  },
  {
   "cell_type": "code",
   "execution_count": 16,
   "id": "2856ad04",
   "metadata": {},
   "outputs": [
    {
     "name": "stdout",
     "output_type": "stream",
     "text": [
      "Accuracy - : 0.815\n"
     ]
    }
   ],
   "source": [
    "print(f'Accuracy - : {evc.score(X_train,y_train):.3f}')"
   ]
  },
  {
   "cell_type": "code",
   "execution_count": 17,
   "id": "1efd60d0",
   "metadata": {},
   "outputs": [
    {
     "data": {
      "text/plain": [
       "array([0, 0, 0, ..., 0, 0, 0])"
      ]
     },
     "execution_count": 17,
     "metadata": {},
     "output_type": "execute_result"
    }
   ],
   "source": [
    "prediccion_binaria = evc.predict(X_valid)\n",
    "prediccion_binaria\n"
   ]
  },
  {
   "cell_type": "code",
   "execution_count": 18,
   "id": "fd789d82",
   "metadata": {},
   "outputs": [
    {
     "data": {
      "text/plain": [
       "array([0.11093058, 0.1056036 , 0.05318077, ..., 0.15350488, 0.07873503,\n",
       "       0.2582593 ])"
      ]
     },
     "execution_count": 18,
     "metadata": {},
     "output_type": "execute_result"
    }
   ],
   "source": [
    "proba_preds = evc.predict_proba(X_valid)[:,1]\n",
    "proba_preds"
   ]
  },
  {
   "cell_type": "code",
   "execution_count": 19,
   "id": "da856352",
   "metadata": {},
   "outputs": [
    {
     "name": "stdout",
     "output_type": "stream",
     "text": [
      "              precision    recall  f1-score   support\n",
      "\n",
      "           0       0.83      1.00      0.91      4586\n",
      "           1       0.98      0.15      0.25      1120\n",
      "\n",
      "    accuracy                           0.83      5706\n",
      "   macro avg       0.90      0.57      0.58      5706\n",
      "weighted avg       0.86      0.83      0.78      5706\n",
      "\n"
     ]
    }
   ],
   "source": [
    "from sklearn.metrics import classification_report\n",
    "print(classification_report(y_valid, prediccion_binaria))"
   ]
  },
  {
   "cell_type": "code",
   "execution_count": 20,
   "id": "cfe297e2",
   "metadata": {},
   "outputs": [
    {
     "data": {
      "text/plain": [
       "0.8652743598529687"
      ]
     },
     "execution_count": 20,
     "metadata": {},
     "output_type": "execute_result"
    }
   ],
   "source": [
    "from sklearn.metrics import roc_auc_score\n",
    "roc_auc_score(y_valid,proba_preds)"
   ]
  },
  {
   "cell_type": "code",
   "execution_count": 21,
   "id": "44a1864e",
   "metadata": {},
   "outputs": [
    {
     "data": {
      "text/plain": [
       "0.7292363140775816"
      ]
     },
     "execution_count": 21,
     "metadata": {},
     "output_type": "execute_result"
    }
   ],
   "source": [
    "roc_auc_score(y_test,evc.predict_proba(X_test)[:,1])"
   ]
  },
  {
   "cell_type": "code",
   "execution_count": null,
   "id": "d21c039d",
   "metadata": {},
   "outputs": [],
   "source": []
  }
 ],
 "metadata": {
  "kernelspec": {
   "display_name": "Python 3 (ipykernel)",
   "language": "python",
   "name": "python3"
  },
  "language_info": {
   "codemirror_mode": {
    "name": "ipython",
    "version": 3
   },
   "file_extension": ".py",
   "mimetype": "text/x-python",
   "name": "python",
   "nbconvert_exporter": "python",
   "pygments_lexer": "ipython3",
   "version": "3.7.9"
  }
 },
 "nbformat": 4,
 "nbformat_minor": 5
}
